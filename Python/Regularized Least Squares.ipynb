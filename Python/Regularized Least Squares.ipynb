{
 "cells": [
  {
   "cell_type": "code",
   "execution_count": 1,
   "metadata": {},
   "outputs": [],
   "source": [
    "#Weslley Lioba Caldas"
   ]
  },
  {
   "cell_type": "markdown",
   "metadata": {},
   "source": [
    "# Regularized Least Squares"
   ]
  },
  {
   "cell_type": "markdown",
   "metadata": {},
   "source": [
    "## importando bibliotecas"
   ]
  },
  {
   "cell_type": "code",
   "execution_count": 2,
   "metadata": {},
   "outputs": [],
   "source": [
    "import pandas as pd\n",
    "import numpy as np\n",
    "import matplotlib.pyplot as plt\n",
    "from random import shuffle\n",
    "from scipy import stats"
   ]
  },
  {
   "cell_type": "markdown",
   "metadata": {},
   "source": [
    "## importando os dados"
   ]
  },
  {
   "cell_type": "code",
   "execution_count": 10,
   "metadata": {},
   "outputs": [],
   "source": [
    "df=pd.read_csv('ex1data3.txt',sep=' ',header=None)\n",
    "df.columns=['x1','x2','x3','x4','x5','y']\n",
    "#Adcionando o intercept\n",
    "df.insert(loc=0, column='x0', value=1)"
   ]
  },
  {
   "cell_type": "markdown",
   "metadata": {},
   "source": [
    "## Apresentando os dados"
   ]
  },
  {
   "cell_type": "code",
   "execution_count": 13,
   "metadata": {},
   "outputs": [
    {
     "data": {
      "text/html": [
       "<div>\n",
       "<style scoped>\n",
       "    .dataframe tbody tr th:only-of-type {\n",
       "        vertical-align: middle;\n",
       "    }\n",
       "\n",
       "    .dataframe tbody tr th {\n",
       "        vertical-align: top;\n",
       "    }\n",
       "\n",
       "    .dataframe thead th {\n",
       "        text-align: right;\n",
       "    }\n",
       "</style>\n",
       "<table border=\"1\" class=\"dataframe\">\n",
       "  <thead>\n",
       "    <tr style=\"text-align: right;\">\n",
       "      <th></th>\n",
       "      <th>x0</th>\n",
       "      <th>x1</th>\n",
       "      <th>x2</th>\n",
       "      <th>x3</th>\n",
       "      <th>x4</th>\n",
       "      <th>x5</th>\n",
       "      <th>y</th>\n",
       "    </tr>\n",
       "  </thead>\n",
       "  <tbody>\n",
       "    <tr>\n",
       "      <th>0</th>\n",
       "      <td>1</td>\n",
       "      <td>2.104</td>\n",
       "      <td>3</td>\n",
       "      <td>1.214590</td>\n",
       "      <td>1.645454</td>\n",
       "      <td>2.040360</td>\n",
       "      <td>3.999</td>\n",
       "    </tr>\n",
       "    <tr>\n",
       "      <th>1</th>\n",
       "      <td>1</td>\n",
       "      <td>1.600</td>\n",
       "      <td>3</td>\n",
       "      <td>0.804845</td>\n",
       "      <td>1.156956</td>\n",
       "      <td>1.043933</td>\n",
       "      <td>3.299</td>\n",
       "    </tr>\n",
       "    <tr>\n",
       "      <th>2</th>\n",
       "      <td>1</td>\n",
       "      <td>2.400</td>\n",
       "      <td>3</td>\n",
       "      <td>1.526176</td>\n",
       "      <td>1.990969</td>\n",
       "      <td>2.735965</td>\n",
       "      <td>3.690</td>\n",
       "    </tr>\n",
       "    <tr>\n",
       "      <th>3</th>\n",
       "      <td>1</td>\n",
       "      <td>1.416</td>\n",
       "      <td>2</td>\n",
       "      <td>1.017324</td>\n",
       "      <td>1.048135</td>\n",
       "      <td>0.873698</td>\n",
       "      <td>2.320</td>\n",
       "    </tr>\n",
       "    <tr>\n",
       "      <th>4</th>\n",
       "      <td>1</td>\n",
       "      <td>3.000</td>\n",
       "      <td>4</td>\n",
       "      <td>1.352385</td>\n",
       "      <td>2.118710</td>\n",
       "      <td>2.403007</td>\n",
       "      <td>5.399</td>\n",
       "    </tr>\n",
       "  </tbody>\n",
       "</table>\n",
       "</div>"
      ],
      "text/plain": [
       "   x0     x1  x2        x3        x4        x5      y\n",
       "0   1  2.104   3  1.214590  1.645454  2.040360  3.999\n",
       "1   1  1.600   3  0.804845  1.156956  1.043933  3.299\n",
       "2   1  2.400   3  1.526176  1.990969  2.735965  3.690\n",
       "3   1  1.416   2  1.017324  1.048135  0.873698  2.320\n",
       "4   1  3.000   4  1.352385  2.118710  2.403007  5.399"
      ]
     },
     "execution_count": 13,
     "metadata": {},
     "output_type": "execute_result"
    }
   ],
   "source": [
    "df.head()"
   ]
  },
  {
   "cell_type": "markdown",
   "metadata": {},
   "source": [
    "### Divisão em treino e teste"
   ]
  },
  {
   "cell_type": "code",
   "execution_count": 89,
   "metadata": {},
   "outputs": [],
   "source": [
    "data=df.values\n",
    "treino=data[0:30,:]\n",
    "teste=data[30:,:]\n",
    "\n",
    "x_treino=treino[:,0:6]\n",
    "y_treino=treino[:,6]\n",
    "x_teste=teste[:,0:6]\n",
    "y_teste=teste[:,6]"
   ]
  },
  {
   "cell_type": "code",
   "execution_count": 93,
   "metadata": {},
   "outputs": [
    {
     "data": {
      "text/plain": [
       "1.0669860811271061"
      ]
     },
     "execution_count": 93,
     "metadata": {},
     "output_type": "execute_result"
    }
   ],
   "source": [
    "np.linalg.norm(w)"
   ]
  },
  {
   "cell_type": "code",
   "execution_count": 99,
   "metadata": {},
   "outputs": [],
   "source": [
    "W=[]\n",
    "norm_w=[]\n",
    "eqm_treino=[]\n",
    "eqm_teste=[]\n",
    "for lamb in range(0,6):\n",
    "    I=np.eye(6)\n",
    "    I[0,0]=0\n",
    "    w=np.matmul(np.matmul(np.linalg.pinv(np.matmul(x_treino.T,x_treino)+lamb*I),x_treino.T),y_treino)\n",
    "    eqm_treino.append(sum((y_treino-np.matmul(x_treino,w))**2)/30)\n",
    "    eqm_teste.append(sum((y_teste-np.matmul(x_teste,w))**2)/17)\n",
    "    norm_w.append(np.linalg.norm(w))\n",
    "    W.append(w)\n",
    "    "
   ]
  },
  {
   "cell_type": "markdown",
   "metadata": {},
   "source": [
    "### Norma do vetor de coeficientes"
   ]
  },
  {
   "cell_type": "code",
   "execution_count": 100,
   "metadata": {},
   "outputs": [
    {
     "data": {
      "image/png": "[encoded data removed]",
      "text/plain": [
       "<Figure size 432x288 with 1 Axes>"
      ]
     },
     "metadata": {},
     "output_type": "display_data"
    }
   ],
   "source": [
    "plt.plot(norm_w)\n",
    "plt.title('Norma do vetor de pesos')\n",
    "plt.xlabel('Valor de regularização')\n",
    "plt.ylabel('Norma Euclidiana do vetor de coeficientes')\n",
    "plt.show()\n",
    "#na medida que o valor de regularização aumenta a norma do vetor de coeficientes cai, indicando que existe uma maior penalidade para valores de coeficientes muito grandes"
   ]
  },
  {
   "cell_type": "markdown",
   "metadata": {},
   "source": [
    "## Erro Quadrático Médio"
   ]
  },
  {
   "cell_type": "markdown",
   "metadata": {},
   "source": [
    "### EQM para o treino"
   ]
  },
  {
   "cell_type": "code",
   "execution_count": 104,
   "metadata": {},
   "outputs": [
    {
     "data": {
      "image/png": "[encoded data removed]",
      "text/plain": [
       "<Figure size 432x288 with 1 Axes>"
      ]
     },
     "metadata": {},
     "output_type": "display_data"
    }
   ],
   "source": [
    "plt.plot(eqm_treino)\n",
    "plt.title('EQM no treino')\n",
    "plt.xlabel('Valor de regularização')\n",
    "plt.ylabel('Erro quadrático médio')\n",
    "plt.show()\n",
    "#na medida que o valor de regularização aumenta o EQM no treino aumenta também"
   ]
  },
  {
   "cell_type": "markdown",
   "metadata": {},
   "source": [
    "### EQM para o teste"
   ]
  },
  {
   "cell_type": "code",
   "execution_count": 106,
   "metadata": {},
   "outputs": [
    {
     "data": {
      "image/png": "[encoded data removed]",
      "text/plain": [
       "<Figure size 432x288 with 1 Axes>"
      ]
     },
     "metadata": {},
     "output_type": "display_data"
    }
   ],
   "source": [
    "plt.plot(eqm_teste)\n",
    "plt.title('EQM noteste')\n",
    "plt.xlabel('Valor de regularização')\n",
    "plt.ylabel('Erro quadrático médio')\n",
    "plt.show()\n",
    "#na medida que o valor de regularização aumenta o EQM no teste diminui. "
   ]
  },
  {
   "cell_type": "markdown",
   "metadata": {},
   "source": [
    "### Mas como pode o EQM aumentar no treino e diminuir no teste para o mesmo fator de regularização?"
   ]
  },
  {
   "cell_type": "markdown",
   "metadata": {},
   "source": [
    "### É simples. Em alguns casos quando o vetor de coeficientes de regressão w se ajusta demais ao conjunto de treinamento, temos o que chamamos de overfitting, que é quando nosso modelo fica enviesado com os dados disponíveis, em outras palavras, ele se ajusta tanto aos dados do treino, que acaba perdendo o poder de generalização e acaba errando mais no conjunto de teste. Para solucionar este problemas adcionamos um fator de regularização que força o encolhimento do vetor w, não permitindo que ele se ajuste totalmente aos dados de treino."
   ]
  },
  {
   "cell_type": "code",
   "execution_count": null,
   "metadata": {},
   "outputs": [],
   "source": []
  },
  {
   "cell_type": "markdown",
   "metadata": {},
   "source": []
  }
 ],
 "metadata": {
  "kernelspec": {
   "display_name": "Python 3",
   "language": "python",
   "name": "python3"
  },
  "language_info": {
   "codemirror_mode": {
    "name": "ipython",
    "version": 3
   },
   "file_extension": ".py",
   "mimetype": "text/x-python",
   "name": "python",
   "nbconvert_exporter": "python",
   "pygments_lexer": "ipython3",
   "version": "3.6.5"
  }
 },
 "nbformat": 4,
 "nbformat_minor": 2
}
